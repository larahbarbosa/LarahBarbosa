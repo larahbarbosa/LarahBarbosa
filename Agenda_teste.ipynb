{
  "nbformat": 4,
  "nbformat_minor": 0,
  "metadata": {
    "colab": {
      "name": "Agenda teste.ipynb",
      "provenance": [],
      "authorship_tag": "ABX9TyOg8V9/Rkh4807ZRpAJfo1j",
      "include_colab_link": true
    },
    "kernelspec": {
      "name": "python3",
      "display_name": "Python 3"
    },
    "language_info": {
      "name": "python"
    }
  },
  "cells": [
    {
      "cell_type": "markdown",
      "metadata": {
        "id": "view-in-github",
        "colab_type": "text"
      },
      "source": [
        "<a href=\"https://colab.research.google.com/github/larahbarbosa/LarahBarbosa/blob/main/Agenda_teste.ipynb\" target=\"_parent\"><img src=\"https://colab.research.google.com/assets/colab-badge.svg\" alt=\"Open In Colab\"/></a>"
      ]
    },
    {
      "cell_type": "code",
      "execution_count": 1,
      "metadata": {
        "colab": {
          "base_uri": "https://localhost:8080/",
          "height": 55
        },
        "id": "eemQ-fBT5LKQ",
        "outputId": "c94a9653-1141-4875-b6e3-416bdd65e793"
      },
      "outputs": [
        {
          "output_type": "stream",
          "name": "stdout",
          "text": [
            "{'melhor amigo': 'Felipe', 'inimigo': 'ninguém'}\n"
          ]
        },
        {
          "output_type": "execute_result",
          "data": {
            "text/plain": [
              "'Felipe'"
            ],
            "application/vnd.google.colaboratory.intrinsic+json": {
              "type": "string"
            }
          },
          "metadata": {},
          "execution_count": 1
        }
      ],
      "source": [
        "#Dicionário similar a uma agenda\n",
        "\n",
        "dicionario = {'melhor amigo':'Felipe', 'inimigo':'ninguém'}\n",
        "print(dicionario)\n",
        "dicionario['melhor amigo']"
      ]
    },
    {
      "cell_type": "code",
      "source": [
        "#Criando um dicionário vazio de clientes\n",
        "\n",
        "clientes={}\n",
        "clientes[12345678900]=['Carinha que mora logo ali', 'Mora logo ali']\n",
        "clientes[15718774790]=['Larissa da Silva Barbosa', 'São Gonçalo, Rio de Janeiro']\n",
        "clientes[15718994790]=['Cesar da Silva de Moraes Neto', 'São Gonçalo, Rio de Janeiro']\n",
        "\n",
        "clientes"
      ],
      "metadata": {
        "colab": {
          "base_uri": "https://localhost:8080/"
        },
        "id": "V1PqmuNE5WBi",
        "outputId": "e8febf12-ee0c-4d0c-86ce-52d7a223acc6"
      },
      "execution_count": 2,
      "outputs": [
        {
          "output_type": "execute_result",
          "data": {
            "text/plain": [
              "{12345678900: ['Carinha que mora logo ali', 'Mora logo ali'],\n",
              " 15718774790: ['Larissa da Silva Barbosa', 'São Gonçalo, Rio de Janeiro'],\n",
              " 15718994790: ['Cesar da Silva de Moraes Neto', 'São Gonçalo, Rio de Janeiro']}"
            ]
          },
          "metadata": {},
          "execution_count": 2
        }
      ]
    },
    {
      "cell_type": "code",
      "source": [
        "#recuperando a informação de um cliente específico por um número de cadastro, que no caso é o cpf\n",
        "\n",
        "clientes[15718774790]"
      ],
      "metadata": {
        "colab": {
          "base_uri": "https://localhost:8080/"
        },
        "id": "rlRqWpRZ5aFp",
        "outputId": "0e520652-5d0e-48b6-97c8-73231333f94f"
      },
      "execution_count": 3,
      "outputs": [
        {
          "output_type": "execute_result",
          "data": {
            "text/plain": [
              "['Larissa da Silva Barbosa', 'São Gonçalo, Rio de Janeiro']"
            ]
          },
          "metadata": {},
          "execution_count": 3
        }
      ]
    }
  ]
}